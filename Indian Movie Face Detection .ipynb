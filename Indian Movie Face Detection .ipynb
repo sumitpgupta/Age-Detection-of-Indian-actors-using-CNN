{
 "cells": [
  {
   "cell_type": "code",
   "execution_count": 1,
   "metadata": {},
   "outputs": [
    {
     "name": "stdout",
     "output_type": "stream",
     "text": [
      "Populating the interactive namespace from numpy and matplotlib\n"
     ]
    },
    {
     "name": "stderr",
     "output_type": "stream",
     "text": [
      "Using TensorFlow backend.\n"
     ]
    }
   ],
   "source": [
    "% pylab inline\n",
    "import os\n",
    "import random\n",
    "\n",
    "import pandas as pd\n",
    "from scipy.misc import imread\n",
    "from sklearn.metrics import accuracy_score\n",
    "\n",
    "import tensorflow as tf\n",
    "import keras\n",
    "from keras.models import Sequential\n",
    "from keras.layers import Dense, Activation, Dropout, Convolution2D, Flatten, MaxPooling2D, Reshape, InputLayer"
   ]
  },
  {
   "cell_type": "code",
   "execution_count": 2,
   "metadata": {},
   "outputs": [
    {
     "data": {
      "text/plain": [
       "'C:\\\\Users\\\\sumit\\\\Documents\\\\ADS\\\\Ass 2\\\\IMFDB'"
      ]
     },
     "execution_count": 2,
     "metadata": {},
     "output_type": "execute_result"
    }
   ],
   "source": [
    "pwd"
   ]
  },
  {
   "cell_type": "code",
   "execution_count": 3,
   "metadata": {
    "collapsed": true
   },
   "outputs": [],
   "source": [
    "data_dir = %pwd"
   ]
  },
  {
   "cell_type": "code",
   "execution_count": 4,
   "metadata": {
    "collapsed": true
   },
   "outputs": [],
   "source": [
    "# setting working directory\n",
    "data_dir = data_dir+ '/data/'"
   ]
  },
  {
   "cell_type": "code",
   "execution_count": 5,
   "metadata": {},
   "outputs": [
    {
     "data": {
      "text/plain": [
       "'C:\\\\Users\\\\sumit\\\\Documents\\\\ADS\\\\Ass 2\\\\IMFDB/data/'"
      ]
     },
     "execution_count": 5,
     "metadata": {},
     "output_type": "execute_result"
    }
   ],
   "source": [
    "data_dir"
   ]
  },
  {
   "cell_type": "code",
   "execution_count": 6,
   "metadata": {
    "collapsed": true
   },
   "outputs": [],
   "source": [
    "root_dir = os.path.abspath('C:/Users/sumit/Documents/ADS/Ass 2/IMFDB')\n",
    " "
   ]
  },
  {
   "cell_type": "code",
   "execution_count": 7,
   "metadata": {
    "collapsed": true
   },
   "outputs": [],
   "source": [
    " data_dir = 'C:/Users/sumit/Documents/ADS/Ass 2/IMFDB/data'"
   ]
  },
  {
   "cell_type": "code",
   "execution_count": 8,
   "metadata": {
    "collapsed": true
   },
   "outputs": [],
   "source": [
    "train = pd.read_csv(os.path.join(data_dir, 'train.csv'))\n",
    "test  = pd.read_csv(os.path.join(data_dir, 'test.csv'))"
   ]
  },
  {
   "cell_type": "code",
   "execution_count": 9,
   "metadata": {},
   "outputs": [
    {
     "name": "stdout",
     "output_type": "stream",
     "text": [
      "Age:  MIDDLE\n"
     ]
    },
    {
     "data": {
      "image/png": "[encoded data removed]",
      "text/plain": [
       "<matplotlib.figure.Figure at 0x14506666c50>"
      ]
     },
     "metadata": {},
     "output_type": "display_data"
    }
   ],
   "source": [
    "# Randomly choosing an image and printing it\n",
    "i = random.choice(train.index)\n",
    "\n",
    "img_name = train.ID[i]\n",
    "img = imread(os.path.join(data_dir, 'Train', img_name))\n",
    "\n",
    "\n",
    "imshow(img)\n",
    "print('Age: ', train.Class[i])"
   ]
  },
  {
   "cell_type": "code",
   "execution_count": 10,
   "metadata": {},
   "outputs": [
    {
     "name": "stdout",
     "output_type": "stream",
     "text": [
      "Age:  OLD\n"
     ]
    },
    {
     "data": {
      "image/png": "[encoded data removed]",
      "text/plain": [
       "<matplotlib.figure.Figure at 0x1450666c2e8>"
      ]
     },
     "metadata": {},
     "output_type": "display_data"
    }
   ],
   "source": [
    "i = random.choice(train.index)\n",
    "\n",
    "img_name = train.ID[i]\n",
    "img = imread(os.path.join(data_dir, 'Train', img_name))\n",
    "\n",
    "\n",
    "imshow(img)\n",
    "print('Age: ', train.Class[i])"
   ]
  },
  {
   "cell_type": "code",
   "execution_count": 11,
   "metadata": {},
   "outputs": [
    {
     "name": "stdout",
     "output_type": "stream",
     "text": [
      "Age:  MIDDLE\n"
     ]
    },
    {
     "data": {
      "image/png": "[encoded data removed]",
      "text/plain": [
       "<matplotlib.figure.Figure at 0x1450b097080>"
      ]
     },
     "metadata": {},
     "output_type": "display_data"
    }
   ],
   "source": [
    "i = random.choice(train.index)\n",
    "\n",
    "img_name = train.ID[i]\n",
    "img = imread(os.path.join(data_dir, 'Train', img_name))\n",
    "\n",
    "\n",
    "imshow(img)\n",
    "print('Age: ', train.Class[i])"
   ]
  },
  {
   "cell_type": "markdown",
   "metadata": {},
   "source": [
    "In order to counter variations in shape, quality etc lets resize the image for uniformity:"
   ]
  },
  {
   "cell_type": "markdown",
   "metadata": {},
   "source": [
    "Lets resize the images into a single numpy array:"
   ]
  },
  {
   "cell_type": "code",
   "execution_count": 12,
   "metadata": {
    "collapsed": true
   },
   "outputs": [],
   "source": [
    "from scipy.misc import imresize\n",
    "\n",
    "temp = []\n",
    "for img_name in train.ID:\n",
    "    img_path = os.path.join(data_dir, 'Train', img_name)\n",
    "    img = imread(img_path)\n",
    "    img = imresize(img, (32, 32))\n",
    "    img = img.astype('float32')\n",
    "    temp.append(img)\n",
    "\n",
    "train_x = np.stack(temp)\n"
   ]
  },
  {
   "cell_type": "code",
   "execution_count": 13,
   "metadata": {
    "collapsed": true
   },
   "outputs": [],
   "source": [
    "# similarly resizing the test images\n",
    "\n",
    "temp = []\n",
    "for img_name in test.ID:\n",
    "    img_path = os.path.join(data_dir, 'Test', img_name)\n",
    "    img = imread(img_path)\n",
    "    img = imresize(img, (32, 32))\n",
    "    img = img.astype('float32') \n",
    "    temp.append(img)\n",
    "\n",
    "test_x = np.stack(temp)\n"
   ]
  },
  {
   "cell_type": "code",
   "execution_count": 14,
   "metadata": {
    "collapsed": true
   },
   "outputs": [],
   "source": [
    "# Normalizing the Images to enhance model training\n",
    "train_x = train_x/255.\n",
    "test_x = test_x/255."
   ]
  },
  {
   "cell_type": "code",
   "execution_count": 15,
   "metadata": {},
   "outputs": [
    {
     "data": {
      "text/plain": [
       "MIDDLE    0.542751\n",
       "YOUNG     0.336883\n",
       "OLD       0.120366\n",
       "Name: Class, dtype: float64"
      ]
     },
     "execution_count": 15,
     "metadata": {},
     "output_type": "execute_result"
    }
   ],
   "source": [
    "# Let us check the distribution of Class (target variable)\n",
    "train.Class.value_counts(normalize=True)"
   ]
  },
  {
   "cell_type": "markdown",
   "metadata": {},
   "source": [
    "We see here that almost 54% of the Class is in the Middle Aged group which gives a good chance of picking up an image \n",
    "belonging to a middle age group actor."
   ]
  },
  {
   "cell_type": "markdown",
   "metadata": {},
   "source": [
    "Our initial exploration of the data is over and so we can now move to build our model"
   ]
  },
  {
   "cell_type": "markdown",
   "metadata": {},
   "source": [
    "Since we have 3 categories in our Target variable, lets transform it into dummy variables:\n"
   ]
  },
  {
   "cell_type": "code",
   "execution_count": 16,
   "metadata": {
    "collapsed": true
   },
   "outputs": [],
   "source": [
    "from sklearn.preprocessing import LabelEncoder\n",
    "label = LabelEncoder()\n",
    "train_y = label.fit_transform(train.Class)\n",
    "train_y = keras.utils.np_utils.to_categorical(train_y)"
   ]
  },
  {
   "cell_type": "markdown",
   "metadata": {},
   "source": [
    "Lets form the CNN model:"
   ]
  },
  {
   "cell_type": "code",
   "execution_count": 17,
   "metadata": {},
   "outputs": [
    {
     "name": "stdout",
     "output_type": "stream",
     "text": [
      "_________________________________________________________________\n",
      "Layer (type)                 Output Shape              Param #   \n",
      "=================================================================\n",
      "input_1 (InputLayer)         (None, 32, 32, 3)         0         \n",
      "_________________________________________________________________\n",
      "conv2d_1 (Conv2D)            (None, 30, 30, 96)        2688      \n",
      "_________________________________________________________________\n",
      "max_pooling2d_1 (MaxPooling2 (None, 15, 15, 96)        0         \n",
      "_________________________________________________________________\n",
      "conv2d_2 (Conv2D)            (None, 14, 14, 256)       98560     \n",
      "_________________________________________________________________\n",
      "max_pooling2d_2 (MaxPooling2 (None, 7, 7, 256)         0         \n",
      "_________________________________________________________________\n",
      "conv2d_3 (Conv2D)            (None, 6, 6, 256)         262400    \n",
      "_________________________________________________________________\n",
      "max_pooling2d_3 (MaxPooling2 (None, 3, 3, 256)         0         \n",
      "_________________________________________________________________\n",
      "conv2d_4 (Conv2D)            (None, 2, 2, 384)         393600    \n",
      "_________________________________________________________________\n",
      "max_pooling2d_4 (MaxPooling2 (None, 1, 1, 384)         0         \n",
      "_________________________________________________________________\n",
      "flatten_1 (Flatten)          (None, 384)               0         \n",
      "_________________________________________________________________\n",
      "dense_1 (Dense)              (None, 1536)              591360    \n",
      "_________________________________________________________________\n",
      "dense_2 (Dense)              (None, 3)                 4611      \n",
      "=================================================================\n",
      "Total params: 1,353,219\n",
      "Trainable params: 1,353,219\n",
      "Non-trainable params: 0\n",
      "_________________________________________________________________\n"
     ]
    }
   ],
   "source": [
    "# We will use ReLU as activation function to remove negative pixel values in the feature map and have non-linearity in our CNN\n",
    "input_units = (32,32,3)\n",
    "hidden_num_units = 500\n",
    "output_num_units = 3\n",
    "epochs = 5\n",
    "batch_size = 128\n",
    "\n",
    "conv_num_filters = 5\n",
    "conv_filter_size = 5\n",
    "\n",
    "pool_size = (2, 2)\n",
    "\n",
    "\n",
    "model = Sequential([\n",
    "InputLayer(input_shape=input_units),\n",
    "# We will use ReLU as activation function to remove negative pixel values in the feature map and have non-linearity in our CNN\n",
    "Convolution2D(96, (3, 3), activation='relu'),\n",
    "MaxPooling2D(pool_size=pool_size),\n",
    "\n",
    "Convolution2D(256, (2, 2), activation='relu'),\n",
    "MaxPooling2D(pool_size=pool_size),\n",
    "\n",
    "Convolution2D(256, (2, 2), activation='relu'),\n",
    "MaxPooling2D(pool_size=pool_size),\n",
    "        \n",
    "Convolution2D(384, (2, 2), activation='relu'),\n",
    "MaxPooling2D(pool_size=pool_size),    \n",
    "\n",
    "Flatten(),\n",
    "Dense(units=1536, activation='relu'),\n",
    "Dense(units=output_num_units, activation='softmax'),\n",
    "])\n",
    "\n",
    "model.compile(loss='categorical_crossentropy', optimizer='sgd', metrics=['accuracy'])\n",
    "model.summary()\n"
   ]
  },
  {
   "cell_type": "code",
   "execution_count": 18,
   "metadata": {},
   "outputs": [
    {
     "name": "stdout",
     "output_type": "stream",
     "text": [
      "Epoch 1/5\n",
      "19906/19906 [==============================] - 184s - loss: 0.9976 - acc: 0.5344   \n",
      "Epoch 2/5\n",
      "19906/19906 [==============================] - 184s - loss: 0.9478 - acc: 0.5428   \n",
      "Epoch 3/5\n",
      "19906/19906 [==============================] - 185s - loss: 0.9461 - acc: 0.5428   \n",
      "Epoch 4/5\n",
      "19906/19906 [==============================] - 185s - loss: 0.9449 - acc: 0.5428   \n",
      "Epoch 5/5\n",
      "19906/19906 [==============================] - 186s - loss: 0.9438 - acc: 0.5428   \n"
     ]
    },
    {
     "data": {
      "text/plain": [
       "<keras.callbacks.History at 0x1450df77a20>"
      ]
     },
     "execution_count": 18,
     "metadata": {},
     "output_type": "execute_result"
    }
   ],
   "source": [
    "# Fitting the model\n",
    "model.fit(train_x, train_y, batch_size=batch_size, epochs=epochs, verbose=1)"
   ]
  },
  {
   "cell_type": "code",
   "execution_count": 19,
   "metadata": {
    "collapsed": true
   },
   "outputs": [],
   "source": [
    "sample_submission = pd.read_csv(os.path.join(data_dir, 'Sample_Submission.csv'))\n"
   ]
  },
  {
   "cell_type": "code",
   "execution_count": 20,
   "metadata": {},
   "outputs": [
    {
     "name": "stdout",
     "output_type": "stream",
     "text": [
      "6636/6636 [==============================] - 19s    \n"
     ]
    },
    {
     "data": {
      "text/plain": [
       "(6636,)"
      ]
     },
     "execution_count": 20,
     "metadata": {},
     "output_type": "execute_result"
    }
   ],
   "source": [
    "# predicting the test set \n",
    "test_x_temp = test_x.reshape(-3, 32, 32, 3)\n",
    "pred = model.predict_classes(test_x_temp)\n",
    "\n",
    "pred.shape"
   ]
  },
  {
   "cell_type": "code",
   "execution_count": 21,
   "metadata": {
    "collapsed": true
   },
   "outputs": [],
   "source": [
    "# Inverting to original classes\n",
    "pred_f = label.inverse_transform(pred)\n",
    "\n"
   ]
  },
  {
   "cell_type": "code",
   "execution_count": 22,
   "metadata": {
    "collapsed": true
   },
   "outputs": [],
   "source": [
    "sample_submission.ID = test.ID\n",
    "sample_submission.Class = pred_f\n"
   ]
  },
  {
   "cell_type": "code",
   "execution_count": 23,
   "metadata": {},
   "outputs": [
    {
     "data": {
      "text/html": [
       "<div>\n",
       "<style>\n",
       "    .dataframe thead tr:only-child th {\n",
       "        text-align: right;\n",
       "    }\n",
       "\n",
       "    .dataframe thead th {\n",
       "        text-align: left;\n",
       "    }\n",
       "\n",
       "    .dataframe tbody tr th {\n",
       "        vertical-align: top;\n",
       "    }\n",
       "</style>\n",
       "<table border=\"1\" class=\"dataframe\">\n",
       "  <thead>\n",
       "    <tr style=\"text-align: right;\">\n",
       "      <th></th>\n",
       "      <th>Class</th>\n",
       "      <th>ID</th>\n",
       "    </tr>\n",
       "  </thead>\n",
       "  <tbody>\n",
       "    <tr>\n",
       "      <th>0</th>\n",
       "      <td>MIDDLE</td>\n",
       "      <td>25321.jpg</td>\n",
       "    </tr>\n",
       "    <tr>\n",
       "      <th>1</th>\n",
       "      <td>MIDDLE</td>\n",
       "      <td>989.jpg</td>\n",
       "    </tr>\n",
       "    <tr>\n",
       "      <th>2</th>\n",
       "      <td>MIDDLE</td>\n",
       "      <td>19277.jpg</td>\n",
       "    </tr>\n",
       "    <tr>\n",
       "      <th>3</th>\n",
       "      <td>MIDDLE</td>\n",
       "      <td>13093.jpg</td>\n",
       "    </tr>\n",
       "    <tr>\n",
       "      <th>4</th>\n",
       "      <td>MIDDLE</td>\n",
       "      <td>5367.jpg</td>\n",
       "    </tr>\n",
       "    <tr>\n",
       "      <th>5</th>\n",
       "      <td>MIDDLE</td>\n",
       "      <td>19851.jpg</td>\n",
       "    </tr>\n",
       "    <tr>\n",
       "      <th>6</th>\n",
       "      <td>MIDDLE</td>\n",
       "      <td>10384.jpg</td>\n",
       "    </tr>\n",
       "    <tr>\n",
       "      <th>7</th>\n",
       "      <td>MIDDLE</td>\n",
       "      <td>24567.jpg</td>\n",
       "    </tr>\n",
       "    <tr>\n",
       "      <th>8</th>\n",
       "      <td>MIDDLE</td>\n",
       "      <td>2029.jpg</td>\n",
       "    </tr>\n",
       "    <tr>\n",
       "      <th>9</th>\n",
       "      <td>MIDDLE</td>\n",
       "      <td>4956.jpg</td>\n",
       "    </tr>\n",
       "    <tr>\n",
       "      <th>10</th>\n",
       "      <td>MIDDLE</td>\n",
       "      <td>26131.jpg</td>\n",
       "    </tr>\n",
       "    <tr>\n",
       "      <th>11</th>\n",
       "      <td>MIDDLE</td>\n",
       "      <td>17407.jpg</td>\n",
       "    </tr>\n",
       "    <tr>\n",
       "      <th>12</th>\n",
       "      <td>MIDDLE</td>\n",
       "      <td>11136.jpg</td>\n",
       "    </tr>\n",
       "    <tr>\n",
       "      <th>13</th>\n",
       "      <td>MIDDLE</td>\n",
       "      <td>23038.jpg</td>\n",
       "    </tr>\n",
       "    <tr>\n",
       "      <th>14</th>\n",
       "      <td>MIDDLE</td>\n",
       "      <td>6333.jpg</td>\n",
       "    </tr>\n",
       "    <tr>\n",
       "      <th>15</th>\n",
       "      <td>MIDDLE</td>\n",
       "      <td>25076.jpg</td>\n",
       "    </tr>\n",
       "    <tr>\n",
       "      <th>16</th>\n",
       "      <td>MIDDLE</td>\n",
       "      <td>22102.jpg</td>\n",
       "    </tr>\n",
       "    <tr>\n",
       "      <th>17</th>\n",
       "      <td>MIDDLE</td>\n",
       "      <td>12396.jpg</td>\n",
       "    </tr>\n",
       "    <tr>\n",
       "      <th>18</th>\n",
       "      <td>MIDDLE</td>\n",
       "      <td>24719.jpg</td>\n",
       "    </tr>\n",
       "    <tr>\n",
       "      <th>19</th>\n",
       "      <td>MIDDLE</td>\n",
       "      <td>21354.jpg</td>\n",
       "    </tr>\n",
       "    <tr>\n",
       "      <th>20</th>\n",
       "      <td>MIDDLE</td>\n",
       "      <td>15362.jpg</td>\n",
       "    </tr>\n",
       "    <tr>\n",
       "      <th>21</th>\n",
       "      <td>MIDDLE</td>\n",
       "      <td>10415.jpg</td>\n",
       "    </tr>\n",
       "    <tr>\n",
       "      <th>22</th>\n",
       "      <td>MIDDLE</td>\n",
       "      <td>5295.jpg</td>\n",
       "    </tr>\n",
       "    <tr>\n",
       "      <th>23</th>\n",
       "      <td>MIDDLE</td>\n",
       "      <td>5531.jpg</td>\n",
       "    </tr>\n",
       "    <tr>\n",
       "      <th>24</th>\n",
       "      <td>MIDDLE</td>\n",
       "      <td>16784.jpg</td>\n",
       "    </tr>\n",
       "    <tr>\n",
       "      <th>25</th>\n",
       "      <td>MIDDLE</td>\n",
       "      <td>22442.jpg</td>\n",
       "    </tr>\n",
       "    <tr>\n",
       "      <th>26</th>\n",
       "      <td>MIDDLE</td>\n",
       "      <td>16794.jpg</td>\n",
       "    </tr>\n",
       "    <tr>\n",
       "      <th>27</th>\n",
       "      <td>MIDDLE</td>\n",
       "      <td>11261.jpg</td>\n",
       "    </tr>\n",
       "    <tr>\n",
       "      <th>28</th>\n",
       "      <td>MIDDLE</td>\n",
       "      <td>11540.jpg</td>\n",
       "    </tr>\n",
       "    <tr>\n",
       "      <th>29</th>\n",
       "      <td>MIDDLE</td>\n",
       "      <td>24286.jpg</td>\n",
       "    </tr>\n",
       "    <tr>\n",
       "      <th>...</th>\n",
       "      <td>...</td>\n",
       "      <td>...</td>\n",
       "    </tr>\n",
       "    <tr>\n",
       "      <th>6606</th>\n",
       "      <td>MIDDLE</td>\n",
       "      <td>13841.jpg</td>\n",
       "    </tr>\n",
       "    <tr>\n",
       "      <th>6607</th>\n",
       "      <td>MIDDLE</td>\n",
       "      <td>8999.jpg</td>\n",
       "    </tr>\n",
       "    <tr>\n",
       "      <th>6608</th>\n",
       "      <td>MIDDLE</td>\n",
       "      <td>15780.jpg</td>\n",
       "    </tr>\n",
       "    <tr>\n",
       "      <th>6609</th>\n",
       "      <td>MIDDLE</td>\n",
       "      <td>10241.jpg</td>\n",
       "    </tr>\n",
       "    <tr>\n",
       "      <th>6610</th>\n",
       "      <td>MIDDLE</td>\n",
       "      <td>13006.jpg</td>\n",
       "    </tr>\n",
       "    <tr>\n",
       "      <th>6611</th>\n",
       "      <td>MIDDLE</td>\n",
       "      <td>20322.jpg</td>\n",
       "    </tr>\n",
       "    <tr>\n",
       "      <th>6612</th>\n",
       "      <td>MIDDLE</td>\n",
       "      <td>24054.jpg</td>\n",
       "    </tr>\n",
       "    <tr>\n",
       "      <th>6613</th>\n",
       "      <td>MIDDLE</td>\n",
       "      <td>21310.jpg</td>\n",
       "    </tr>\n",
       "    <tr>\n",
       "      <th>6614</th>\n",
       "      <td>MIDDLE</td>\n",
       "      <td>24707.jpg</td>\n",
       "    </tr>\n",
       "    <tr>\n",
       "      <th>6615</th>\n",
       "      <td>MIDDLE</td>\n",
       "      <td>3292.jpg</td>\n",
       "    </tr>\n",
       "    <tr>\n",
       "      <th>6616</th>\n",
       "      <td>MIDDLE</td>\n",
       "      <td>18392.jpg</td>\n",
       "    </tr>\n",
       "    <tr>\n",
       "      <th>6617</th>\n",
       "      <td>MIDDLE</td>\n",
       "      <td>7731.jpg</td>\n",
       "    </tr>\n",
       "    <tr>\n",
       "      <th>6618</th>\n",
       "      <td>MIDDLE</td>\n",
       "      <td>26522.jpg</td>\n",
       "    </tr>\n",
       "    <tr>\n",
       "      <th>6619</th>\n",
       "      <td>MIDDLE</td>\n",
       "      <td>25614.jpg</td>\n",
       "    </tr>\n",
       "    <tr>\n",
       "      <th>6620</th>\n",
       "      <td>MIDDLE</td>\n",
       "      <td>11283.jpg</td>\n",
       "    </tr>\n",
       "    <tr>\n",
       "      <th>6621</th>\n",
       "      <td>MIDDLE</td>\n",
       "      <td>1485.jpg</td>\n",
       "    </tr>\n",
       "    <tr>\n",
       "      <th>6622</th>\n",
       "      <td>MIDDLE</td>\n",
       "      <td>15057.jpg</td>\n",
       "    </tr>\n",
       "    <tr>\n",
       "      <th>6623</th>\n",
       "      <td>MIDDLE</td>\n",
       "      <td>9582.jpg</td>\n",
       "    </tr>\n",
       "    <tr>\n",
       "      <th>6624</th>\n",
       "      <td>MIDDLE</td>\n",
       "      <td>10634.jpg</td>\n",
       "    </tr>\n",
       "    <tr>\n",
       "      <th>6625</th>\n",
       "      <td>MIDDLE</td>\n",
       "      <td>15146.jpg</td>\n",
       "    </tr>\n",
       "    <tr>\n",
       "      <th>6626</th>\n",
       "      <td>MIDDLE</td>\n",
       "      <td>16049.jpg</td>\n",
       "    </tr>\n",
       "    <tr>\n",
       "      <th>6627</th>\n",
       "      <td>MIDDLE</td>\n",
       "      <td>13461.jpg</td>\n",
       "    </tr>\n",
       "    <tr>\n",
       "      <th>6628</th>\n",
       "      <td>MIDDLE</td>\n",
       "      <td>147.jpg</td>\n",
       "    </tr>\n",
       "    <tr>\n",
       "      <th>6629</th>\n",
       "      <td>MIDDLE</td>\n",
       "      <td>22636.jpg</td>\n",
       "    </tr>\n",
       "    <tr>\n",
       "      <th>6630</th>\n",
       "      <td>MIDDLE</td>\n",
       "      <td>6512.jpg</td>\n",
       "    </tr>\n",
       "    <tr>\n",
       "      <th>6631</th>\n",
       "      <td>MIDDLE</td>\n",
       "      <td>1876.jpg</td>\n",
       "    </tr>\n",
       "    <tr>\n",
       "      <th>6632</th>\n",
       "      <td>MIDDLE</td>\n",
       "      <td>14940.jpg</td>\n",
       "    </tr>\n",
       "    <tr>\n",
       "      <th>6633</th>\n",
       "      <td>MIDDLE</td>\n",
       "      <td>3638.jpg</td>\n",
       "    </tr>\n",
       "    <tr>\n",
       "      <th>6634</th>\n",
       "      <td>MIDDLE</td>\n",
       "      <td>376.jpg</td>\n",
       "    </tr>\n",
       "    <tr>\n",
       "      <th>6635</th>\n",
       "      <td>MIDDLE</td>\n",
       "      <td>9357.jpg</td>\n",
       "    </tr>\n",
       "  </tbody>\n",
       "</table>\n",
       "<p>6636 rows × 2 columns</p>\n",
       "</div>"
      ],
      "text/plain": [
       "       Class         ID\n",
       "0     MIDDLE  25321.jpg\n",
       "1     MIDDLE    989.jpg\n",
       "2     MIDDLE  19277.jpg\n",
       "3     MIDDLE  13093.jpg\n",
       "4     MIDDLE   5367.jpg\n",
       "5     MIDDLE  19851.jpg\n",
       "6     MIDDLE  10384.jpg\n",
       "7     MIDDLE  24567.jpg\n",
       "8     MIDDLE   2029.jpg\n",
       "9     MIDDLE   4956.jpg\n",
       "10    MIDDLE  26131.jpg\n",
       "11    MIDDLE  17407.jpg\n",
       "12    MIDDLE  11136.jpg\n",
       "13    MIDDLE  23038.jpg\n",
       "14    MIDDLE   6333.jpg\n",
       "15    MIDDLE  25076.jpg\n",
       "16    MIDDLE  22102.jpg\n",
       "17    MIDDLE  12396.jpg\n",
       "18    MIDDLE  24719.jpg\n",
       "19    MIDDLE  21354.jpg\n",
       "20    MIDDLE  15362.jpg\n",
       "21    MIDDLE  10415.jpg\n",
       "22    MIDDLE   5295.jpg\n",
       "23    MIDDLE   5531.jpg\n",
       "24    MIDDLE  16784.jpg\n",
       "25    MIDDLE  22442.jpg\n",
       "26    MIDDLE  16794.jpg\n",
       "27    MIDDLE  11261.jpg\n",
       "28    MIDDLE  11540.jpg\n",
       "29    MIDDLE  24286.jpg\n",
       "...      ...        ...\n",
       "6606  MIDDLE  13841.jpg\n",
       "6607  MIDDLE   8999.jpg\n",
       "6608  MIDDLE  15780.jpg\n",
       "6609  MIDDLE  10241.jpg\n",
       "6610  MIDDLE  13006.jpg\n",
       "6611  MIDDLE  20322.jpg\n",
       "6612  MIDDLE  24054.jpg\n",
       "6613  MIDDLE  21310.jpg\n",
       "6614  MIDDLE  24707.jpg\n",
       "6615  MIDDLE   3292.jpg\n",
       "6616  MIDDLE  18392.jpg\n",
       "6617  MIDDLE   7731.jpg\n",
       "6618  MIDDLE  26522.jpg\n",
       "6619  MIDDLE  25614.jpg\n",
       "6620  MIDDLE  11283.jpg\n",
       "6621  MIDDLE   1485.jpg\n",
       "6622  MIDDLE  15057.jpg\n",
       "6623  MIDDLE   9582.jpg\n",
       "6624  MIDDLE  10634.jpg\n",
       "6625  MIDDLE  15146.jpg\n",
       "6626  MIDDLE  16049.jpg\n",
       "6627  MIDDLE  13461.jpg\n",
       "6628  MIDDLE    147.jpg\n",
       "6629  MIDDLE  22636.jpg\n",
       "6630  MIDDLE   6512.jpg\n",
       "6631  MIDDLE   1876.jpg\n",
       "6632  MIDDLE  14940.jpg\n",
       "6633  MIDDLE   3638.jpg\n",
       "6634  MIDDLE    376.jpg\n",
       "6635  MIDDLE   9357.jpg\n",
       "\n",
       "[6636 rows x 2 columns]"
      ]
     },
     "execution_count": 23,
     "metadata": {},
     "output_type": "execute_result"
    }
   ],
   "source": [
    "# Predicted test set\n",
    "sample_submission"
   ]
  }
 ],
 "metadata": {
  "kernelspec": {
   "display_name": "Python 3",
   "language": "python",
   "name": "python3"
  },
  "language_info": {
   "codemirror_mode": {
    "name": "ipython",
    "version": 3
   },
   "file_extension": ".py",
   "mimetype": "text/x-python",
   "name": "python",
   "nbconvert_exporter": "python",
   "pygments_lexer": "ipython3",
   "version": "3.6.3"
  }
 },
 "nbformat": 4,
 "nbformat_minor": 2
}
